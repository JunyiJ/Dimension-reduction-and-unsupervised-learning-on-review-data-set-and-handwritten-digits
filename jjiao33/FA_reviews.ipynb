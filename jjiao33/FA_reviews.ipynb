{
 "cells": [
  {
   "cell_type": "code",
   "execution_count": 1,
   "metadata": {},
   "outputs": [
    {
     "name": "stdout",
     "output_type": "stream",
     "text": [
      "[nltk_data] Downloading package punkt to /home/junyi/nltk_data...\n",
      "[nltk_data]   Package punkt is already up-to-date!\n",
      "[nltk_data] Downloading package stopwords to /home/junyi/nltk_data...\n",
      "[nltk_data]   Package stopwords is already up-to-date!\n",
      "[nltk_data] Downloading package wordnet to /home/junyi/nltk_data...\n",
      "[nltk_data]   Package wordnet is already up-to-date!\n"
     ]
    }
   ],
   "source": [
    "from __future__ import print_function\n",
    "\n",
    "import csv\n",
    "import codecs\n",
    "import sys\n",
    "import string\n",
    "import time\n",
    "import numpy as np\n",
    "import matplotlib.pyplot as plt\n",
    "\n",
    "from collections import defaultdict\n",
    "from random import shuffle \n",
    "import nltk\n",
    "from nltk.tokenize import RegexpTokenizer\n",
    "from nltk.classify import SklearnClassifier\n",
    "from nltk.util import ngrams\n",
    "nltk.download('punkt')\n",
    "nltk.download('stopwords')\n",
    "nltk.download('wordnet')\n",
    "from nltk.corpus import stopwords\n",
    "from nltk.stem import WordNetLemmatizer\n",
    "\n",
    "from sklearn import metrics\n",
    "from sklearn.metrics import accuracy_score, precision_recall_fscore_support\n",
    "from sklearn.pipeline import Pipeline\n",
    "from sklearn.tree import DecisionTreeClassifier\n",
    "from sklearn.neural_network import MLPClassifier\n",
    "from sklearn import ensemble\n",
    "from sklearn.svm import SVC\n",
    "from sklearn.neighbors import KNeighborsClassifier\n",
    "from sklearn.cluster import KMeans, FeatureAgglomeration\n",
    "from sklearn.feature_extraction.text import CountVectorizer, TfidfVectorizer\n",
    "from sklearn.metrics import precision_recall_fscore_support\n",
    "from sklearn.decomposition import PCA, FastICA, fastica\n",
    "from sklearn import preprocessing\n",
    "\n",
    "def parseReview(line):\n",
    "    if line[1] == \"__label1__\":\n",
    "        s = 0\n",
    "    else:\n",
    "        s = 1\n",
    "    return (line[0], line[2], line[3], line[4], line[8], s)\n",
    "\n",
    "def preProcess(text):\n",
    "    m = {key: \"\" for key in string.punctuation}\n",
    "    #table = string.maketrans(m)\n",
    "    lemmatizer = WordNetLemmatizer()\n",
    "    filtered_tokens=[]\n",
    "    lemmatized_tokens = []\n",
    "    stop_words = set(stopwords.words('english'))\n",
    "    text = text.translate(m)\n",
    "    for w in text.split(\" \"):\n",
    "        if w not in stop_words:\n",
    "            lemmatized_tokens.append(lemmatizer.lemmatize(w.lower()))\n",
    "        filtered_tokens = [' '.join(l) for l in nltk.bigrams(lemmatized_tokens)] + lemmatized_tokens\n",
    "    return filtered_tokens\n",
    "\n",
    "def loadData(path):\n",
    "    rawData = []\n",
    "    with open(path) as f:\n",
    "        reader = csv.reader(f, delimiter='\\t')\n",
    "        next(reader)\n",
    "        categories = {}\n",
    "        ind = 0\n",
    "        for line in reader:\n",
    "            (Id, rating, verified_purchase, product_category, text, Label) = parseReview(line)\n",
    "            if product_category not in categories:\n",
    "                category = ind\n",
    "                categories[product_category] = ind\n",
    "                ind += 1\n",
    "            vp = 1 if verified_purchase == 'Y' else 0\n",
    "            filtered_tokens = preProcess(unicode(text, 'utf-8'))\n",
    "            # Only use text field\n",
    "            #rawData.append([' '.join(filtered_tokens), Label])\n",
    "            # Use all fields\n",
    "            rawData.append([' '.join(filtered_tokens), len(filtered_tokens), vp, int(rating), Label])\n",
    "    shuffle(rawData)\n",
    "    Y = [x[-1] for x in rawData]\n",
    "    support = [[x[1], x[2], x[3]] for x in rawData]\n",
    "    X = [x[0] for x in rawData]\n",
    "    return X, Y, support\n",
    "\n",
    "\n",
    "def processData(rawData):\n",
    "    X = []\n",
    "    vectorizer = TfidfVectorizer(stop_words='english')\n",
    "    X = vectorizer.fit_transform(rawData)\n",
    "    X = X.toarray()\n",
    "    return X\n",
    "        \n",
    "def crossValidate(trainData, folds, classifier):\n",
    "    cv_results = []\n",
    "    foldsize = int (len(trainData)//folds)\n",
    "    for i in xrange(0, len(trainData), foldsize):\n",
    "        pipeline = Pipeline([('', classifier)])\n",
    "        clf = SklearnClassifier(pipeline).train(trainData[:i] + trainData[foldsize + i:])\n",
    "        y_pred = clf.classify_many(map(lambda t : t[0], trainData[i:foldsize + i]))\n",
    "        a, p, r, f = predict(trainData[i:foldsize + i], y_pred)\n",
    "        cv_results.append((a, p, r, f))\n",
    "    cv_results = (np.mean(np.array(cv_results), axis=0))\n",
    "    return cv_results, clf\n",
    "\n",
    "def plot_boosting_deviance(clf, params, X_test, y_test):\n",
    "    test_score = np.zeros((params['n_estimators'],), dtype=np.float64)\n",
    "    for i, y_pred in enumerate(clf.staged_predict(X_test)):\n",
    "\ttest_score[i] = clf.loss_(y_test, y_pred)\n",
    "\tplt.figure()\n",
    "\tplt.title('Deviance')\n",
    "\tplt.plot(np.arange(params['n_estimators']) + 1, clf.train_score_, 'b-',\n",
    "\t\t label='Training Set Deviance')\n",
    "\tplt.plot(np.arange(params['n_estimators']) + 1, test_score, 'r-',\n",
    "\t\t label='Test Set Deviance')\n",
    "\tplt.legend(loc='upper right')\n",
    "\tplt.xlabel('Boosting Iterations')\n",
    "\tplt.ylabel('Deviance')\n",
    "        fig = plt.gcf()\n",
    "        fig.savefig('boosting deviance')"
   ]
  },
  {
   "cell_type": "code",
   "execution_count": 2,
   "metadata": {},
   "outputs": [
    {
     "name": "stdout",
     "output_type": "stream",
     "text": [
      "(3997, 12688)\n",
      "(3997,)\n"
     ]
    }
   ],
   "source": [
    "rawData, Y, support = loadData('reviews_4000.txt')\n",
    "X = processData(rawData)\n",
    "Y = np.array(Y)\n",
    "print(X.shape)\n",
    "print(Y.shape)"
   ]
  },
  {
   "cell_type": "code",
   "execution_count": 9,
   "metadata": {},
   "outputs": [
    {
     "name": "stdout",
     "output_type": "stream",
     "text": [
      "FA time is  237.228412151\n"
     ]
    }
   ],
   "source": [
    "starttime = time.time()\n",
    "reduced_data = FeatureAgglomeration(n_clusters=500).fit_transform(X)\n",
    "reduced_data = preprocessing.scale(reduced_data)\n",
    "print(\"FA time is \", time.time()-starttime)"
   ]
  },
  {
   "cell_type": "code",
   "execution_count": 4,
   "metadata": {},
   "outputs": [
    {
     "name": "stdout",
     "output_type": "stream",
     "text": [
      "(3997, 2)\n"
     ]
    }
   ],
   "source": [
    "print(reduced_data.shape)"
   ]
  },
  {
   "cell_type": "code",
   "execution_count": 10,
   "metadata": {},
   "outputs": [
    {
     "name": "stdout",
     "output_type": "stream",
     "text": [
      "(3997, 503)\n",
      "[[-0.27462715 -0.11615985 -0.13136109 ...  0.03996701 -1.06116155\n",
      "  -1.96271531]\n",
      " [ 3.52002995 -0.11615985 -0.13136109 ... -0.41082973  0.94236358\n",
      "   1.07649945]\n",
      " [-0.27462715 -0.11615985 -0.13136109 ...  0.53821603  0.94236358\n",
      "   0.31669576]\n",
      " ...\n",
      " [ 0.50359341 -0.11615985 -0.13136109 ...  2.12786767  0.94236358\n",
      "   0.31669576]\n",
      " [-0.27462715 -0.11615985 -0.13136109 ... -0.41082973  0.94236358\n",
      "   1.07649945]\n",
      " [-0.27462715 -0.11615985 -0.13136109 ...  0.65684675 -1.06116155\n",
      "   0.31669576]]\n"
     ]
    }
   ],
   "source": [
    "newdata = []\n",
    "for i in xrange(reduced_data.shape[0]):\n",
    "    newdata.append(np.append(reduced_data[i], support[i]))\n",
    "newdata = np.array(newdata)\n",
    "newdata = preprocessing.scale(newdata)\n",
    "print(newdata.shape)\n",
    "print(newdata[:10])"
   ]
  },
  {
   "cell_type": "code",
   "execution_count": 6,
   "metadata": {},
   "outputs": [
    {
     "data": {
      "text/plain": [
       "KMeans(algorithm='auto', copy_x=True, init='k-means++', max_iter=300,\n",
       "    n_clusters=2, n_init=10, n_jobs=None, precompute_distances='auto',\n",
       "    random_state=None, tol=0.0001, verbose=0)"
      ]
     },
     "execution_count": 6,
     "metadata": {},
     "output_type": "execute_result"
    }
   ],
   "source": [
    "kmeans = KMeans(init='k-means++', n_clusters=2, n_init=10)\n",
    "kmeans.fit(newdata)"
   ]
  },
  {
   "cell_type": "code",
   "execution_count": 7,
   "metadata": {},
   "outputs": [
    {
     "name": "stdout",
     "output_type": "stream",
     "text": [
      "0.5248936702526895 0.5248936702526895\n"
     ]
    }
   ],
   "source": [
    "predict = kmeans.labels_.astype(np.int)\n",
    "precision, recall, _, _ = precision_recall_fscore_support(Y, predict, average = 'micro')\n",
    "print(precision, recall)"
   ]
  },
  {
   "cell_type": "code",
   "execution_count": 11,
   "metadata": {},
   "outputs": [
    {
     "name": "stdout",
     "output_type": "stream",
     "text": [
      "Evaluate of KMeans with k-means++ init\n",
      "running time is 1.01205992699 s\n"
     ]
    },
    {
     "data": {
      "image/png": "[encoded data removed]",
      "text/plain": [
       "<Figure size 432x288 with 3 Axes>"
      ]
     },
     "metadata": {
      "needs_background": "light"
     },
     "output_type": "display_data"
    }
   ],
   "source": [
    "clusters = [\n",
    "               (KMeans, 'k-means++', {}),             \n",
    "           ]\n",
    "sample_size = [100, 300, 900]\n",
    "max_iters = xrange(1, 200, 20)\n",
    "clf_error = {}\n",
    "plt.figure()\n",
    "ax1 = plt.subplot(212)\n",
    "ax2 = plt.subplot(221)\n",
    "ax3 = plt.subplot(222)\n",
    "legends = []\n",
    "starttime = time.time()\n",
    "for factory, init, params in clusters:\n",
    "    print('Evaluate of {} with {} init'.format(factory.__name__, init))\n",
    "    for size in sample_size:\n",
    "        precisions = np.empty(len(max_iters))\n",
    "        recalls = np.empty(len(max_iters))\n",
    "        inertia = np.empty(len(max_iters))\n",
    "        for i, max_iter in enumerate(max_iters):\n",
    "            #change fit(newdata[:size]) to use PCA\n",
    "            #change to fit(X[:size]) to use kmeans without reduction\n",
    "            km = factory(n_clusters=2, max_iter=max_iter, n_init=5, **params).fit(newdata[:size])\n",
    "            predict = km.labels_.astype(np.int)\n",
    "            precision, recall, _, _ = precision_recall_fscore_support(Y[:size], predict, average = 'micro')\n",
    "            #print(precision, recall)\n",
    "            inertia[i] = km.inertia_\n",
    "            precisions[i] = max(precision, 1-precision)\n",
    "            recalls[i] = max(recall, 1 - recall)\n",
    "        ax1.plot(max_iters, inertia)\n",
    "        ax2.plot(max_iters, precisions)\n",
    "        ax3.plot(max_iters, recalls)\n",
    "        legends.append(\"{} with size = {}\".format(factory.__name__, size))\n",
    "    fig = plt.gcf()\n",
    "    ax1.set_xlabel('iteration')\n",
    "    ax1.set_ylabel('inertia')\n",
    "    ax1.legend(legends)\n",
    "\n",
    "    ax2.set_ylabel('precision')\n",
    "    ax3.set_ylabel('recall')\n",
    "    fig.savefig('FA500_all_feature')\n",
    "print('running time is {} s'.format(time.time()-starttime))"
   ]
  }
 ],
 "metadata": {
  "kernelspec": {
   "display_name": "Python 2",
   "language": "python",
   "name": "python2"
  },
  "language_info": {
   "codemirror_mode": {
    "name": "ipython",
    "version": 2
   },
   "file_extension": ".py",
   "mimetype": "text/x-python",
   "name": "python",
   "nbconvert_exporter": "python",
   "pygments_lexer": "ipython2",
   "version": "2.7.12"
  }
 },
 "nbformat": 4,
 "nbformat_minor": 2
}
