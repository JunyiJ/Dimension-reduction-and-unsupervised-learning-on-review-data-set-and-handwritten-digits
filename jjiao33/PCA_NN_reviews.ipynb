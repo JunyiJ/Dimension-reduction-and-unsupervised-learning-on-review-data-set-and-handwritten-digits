{
 "cells": [
  {
   "cell_type": "code",
   "execution_count": 44,
   "metadata": {},
   "outputs": [
    {
     "name": "stdout",
     "output_type": "stream",
     "text": [
      "[nltk_data] Error loading punkt: <urlopen error [Errno 110] Connection\n",
      "[nltk_data]     timed out>\n",
      "[nltk_data] Error loading stopwords: <urlopen error [Errno 110]\n",
      "[nltk_data]     Connection timed out>\n",
      "[nltk_data] Error loading wordnet: <urlopen error [Errno -3] Temporary\n",
      "[nltk_data]     failure in name resolution>\n"
     ]
    }
   ],
   "source": [
    "from __future__ import print_function\n",
    "\n",
    "import csv\n",
    "import codecs\n",
    "import sys\n",
    "import string\n",
    "import time\n",
    "import numpy as np\n",
    "import matplotlib.pyplot as plt\n",
    "\n",
    "from collections import defaultdict\n",
    "from random import shuffle \n",
    "import nltk\n",
    "from nltk.tokenize import RegexpTokenizer\n",
    "from nltk.classify import SklearnClassifier\n",
    "from nltk.util import ngrams\n",
    "nltk.download('punkt')\n",
    "nltk.download('stopwords')\n",
    "nltk.download('wordnet')\n",
    "from nltk.corpus import stopwords\n",
    "from nltk.stem import WordNetLemmatizer\n",
    "\n",
    "from sklearn import metrics\n",
    "from sklearn.metrics import accuracy_score, precision_recall_fscore_support\n",
    "from sklearn.pipeline import Pipeline\n",
    "from sklearn.tree import DecisionTreeClassifier\n",
    "from sklearn.neural_network import MLPClassifier\n",
    "from sklearn import ensemble\n",
    "from sklearn.svm import SVC\n",
    "from sklearn.neighbors import KNeighborsClassifier\n",
    "from sklearn.cluster import KMeans\n",
    "from sklearn.feature_extraction.text import CountVectorizer, TfidfVectorizer\n",
    "from sklearn.metrics import precision_recall_fscore_support\n",
    "from sklearn.decomposition import PCA, FastICA\n",
    "from sklearn import preprocessing\n",
    "from sklearn.neural_network import MLPClassifier\n",
    "\n",
    "def parseReview(line):\n",
    "    if line[1] == \"__label1__\":\n",
    "        s = 0\n",
    "    else:\n",
    "        s = 1\n",
    "    return (line[0], line[2], line[3], line[4], line[8], s)\n",
    "\n",
    "def preProcess(text):\n",
    "    m = {key: \"\" for key in string.punctuation}\n",
    "    #table = string.maketrans(m)\n",
    "    lemmatizer = WordNetLemmatizer()\n",
    "    filtered_tokens=[]\n",
    "    lemmatized_tokens = []\n",
    "    stop_words = set(stopwords.words('english'))\n",
    "    stop_words = set()\n",
    "    text = text.translate(m)\n",
    "    for w in text.split(\" \"):\n",
    "        if w not in stop_words:\n",
    "            lemmatized_tokens.append(lemmatizer.lemmatize(w.lower()))\n",
    "        filtered_tokens = [' '.join(l) for l in nltk.bigrams(lemmatized_tokens)] + lemmatized_tokens\n",
    "    return filtered_tokens\n",
    "\n",
    "def loadData(path):\n",
    "    rawData = []\n",
    "    with open(path) as f:\n",
    "        reader = csv.reader(f, delimiter='\\t')\n",
    "        next(reader)\n",
    "        categories = {}\n",
    "        ind = 0\n",
    "        for line in reader:\n",
    "            (Id, rating, verified_purchase, product_category, text, Label) = parseReview(line)\n",
    "            if product_category not in categories:\n",
    "                category = ind\n",
    "                categories[product_category] = ind\n",
    "                ind += 1\n",
    "            vp = 1 if verified_purchase == 'Y' else 0\n",
    "            filtered_tokens = preProcess(unicode(text, 'utf-8'))\n",
    "            # Only use text field\n",
    "            #rawData.append([' '.join(filtered_tokens), Label])\n",
    "            # Use all fields\n",
    "            rawData.append([' '.join(filtered_tokens), len(filtered_tokens), vp, int(rating), Label])\n",
    "    shuffle(rawData)\n",
    "    Y = [x[-1] for x in rawData]\n",
    "    support = [[x[1], x[2], x[3]] for x in rawData]\n",
    "    X = [x[0] for x in rawData]\n",
    "    return X, Y, support\n",
    "\n",
    "\n",
    "def processData(rawData):\n",
    "    X = []\n",
    "    vectorizer = TfidfVectorizer(stop_words='english')\n",
    "    X = vectorizer.fit_transform(rawData)\n",
    "    X = X.toarray()\n",
    "    return X\n",
    "\n",
    "def splitData(rawX, rawY, trainX, trainY, testX, testY):\n",
    "    # split training data and test data\n",
    "    n = len(rawX)\n",
    "    print (n)\n",
    "    for i in xrange(int(n*0.95)):\n",
    "        trainX.append(rawX[i])\n",
    "        trainY.append(rawY[i])\n",
    "    for i in xrange(int(n*0.95), n):\n",
    "        testX.append(rawX[i])\n",
    "        testY.append(rawY[i])\n",
    "        \n",
    "def crossValidate(trainData, folds, classifier):\n",
    "    cv_results = []\n",
    "    foldsize = int (len(trainData)//folds)\n",
    "    for i in xrange(0, len(trainData), foldsize):\n",
    "        pipeline = Pipeline([('', classifier)])\n",
    "        clf = SklearnClassifier(pipeline).train(trainData[:i] + trainData[foldsize + i:])\n",
    "        y_pred = clf.classify_many(map(lambda t : t[0], trainData[i:foldsize + i]))\n",
    "        a, p, r, f = predict(trainData[i:foldsize + i], y_pred)\n",
    "        cv_results.append((a, p, r, f))\n",
    "    cv_results = (np.mean(np.array(cv_results), axis=0))\n",
    "    return cv_results, clf\n",
    "\n",
    "def plot_boosting_deviance(clf, params, X_test, y_test):\n",
    "    test_score = np.zeros((params['n_estimators'],), dtype=np.float64)\n",
    "    for i, y_pred in enumerate(clf.staged_predict(X_test)):\n",
    "\ttest_score[i] = clf.loss_(y_test, y_pred)\n",
    "\tplt.figure()\n",
    "\tplt.title('Deviance')\n",
    "\tplt.plot(np.arange(params['n_estimators']) + 1, clf.train_score_, 'b-',\n",
    "\t\t label='Training Set Deviance')\n",
    "\tplt.plot(np.arange(params['n_estimators']) + 1, test_score, 'r-',\n",
    "\t\t label='Test Set Deviance')\n",
    "\tplt.legend(loc='upper right')\n",
    "\tplt.xlabel('Boosting Iterations')\n",
    "\tplt.ylabel('Deviance')\n",
    "        fig = plt.gcf()\n",
    "        fig.savefig('boosting deviance')"
   ]
  },
  {
   "cell_type": "code",
   "execution_count": 45,
   "metadata": {},
   "outputs": [
    {
     "name": "stdout",
     "output_type": "stream",
     "text": [
      "(3997, 12691)\n",
      "(3997,)\n"
     ]
    }
   ],
   "source": [
    "rawData, Y, support = loadData('reviews_4000.txt')\n",
    "X = processData(rawData)\n",
    "Y = np.array(Y)\n",
    "print(X.shape)\n",
    "print(Y.shape)"
   ]
  },
  {
   "cell_type": "code",
   "execution_count": 7,
   "metadata": {},
   "outputs": [],
   "source": [
    "trainX, trainY, testX, testY = [], [], [], []"
   ]
  },
  {
   "cell_type": "code",
   "execution_count": 4,
   "metadata": {},
   "outputs": [
    {
     "name": "stdout",
     "output_type": "stream",
     "text": [
      "PCA time is  2.5580971241\n"
     ]
    }
   ],
   "source": [
    "starttime = time.time()\n",
    "reduced_data = PCA(n_components=2).fit_transform(X)\n",
    "reduced_data = preprocessing.scale(reduced_data)\n",
    "print(\"PCA time is \", time.time()-starttime)"
   ]
  },
  {
   "cell_type": "code",
   "execution_count": 5,
   "metadata": {},
   "outputs": [
    {
     "name": "stdout",
     "output_type": "stream",
     "text": [
      "(3997, 2)\n"
     ]
    }
   ],
   "source": [
    "print(reduced_data.shape)"
   ]
  },
  {
   "cell_type": "code",
   "execution_count": 6,
   "metadata": {},
   "outputs": [
    {
     "name": "stdout",
     "output_type": "stream",
     "text": [
      "(3997, 5)\n",
      "[[-0.303686    0.52927545  0.32468073  0.94236358  0.31669576]\n",
      " [-0.3156066   0.28648905 -0.5057343   0.94236358 -0.44310793]\n",
      " [-0.27290441  0.14818663  0.32468073  0.94236358  1.07649945]\n",
      " [-0.44011301  0.17255913 -0.52946045 -1.06116155  0.31669576]\n",
      " [ 1.49039395 -0.33641645  0.82292976  0.94236358 -1.96271531]\n",
      " [-0.23386635 -0.25241524  0.18232387 -1.06116155 -1.96271531]\n",
      " [-0.34693215  0.66275395 -0.45828201  0.94236358  1.07649945]\n",
      " [-0.37400092  0.07075579 -0.52946045  0.94236358  1.07649945]\n",
      " [-0.2849356  -0.45996319  0.22977616 -1.06116155  1.07649945]\n",
      " [ 1.00570853  0.16879067  0.41958531  0.94236358  0.31669576]]\n"
     ]
    }
   ],
   "source": [
    "newdata = []\n",
    "for i in xrange(reduced_data.shape[0]):\n",
    "    newdata.append(np.append(reduced_data[i], support[i]))\n",
    "newdata = np.array(newdata)\n",
    "newdata = preprocessing.scale(newdata)\n",
    "print(newdata.shape)\n",
    "print(newdata[:10])"
   ]
  },
  {
   "cell_type": "code",
   "execution_count": 8,
   "metadata": {},
   "outputs": [
    {
     "name": "stdout",
     "output_type": "stream",
     "text": [
      "3997\n"
     ]
    }
   ],
   "source": [
    "splitData(newdata, Y, trainX, trainY, testX, testY)\n"
   ]
  },
  {
   "cell_type": "code",
   "execution_count": null,
   "metadata": {},
   "outputs": [],
   "source": []
  },
  {
   "cell_type": "code",
   "execution_count": 17,
   "metadata": {},
   "outputs": [
    {
     "name": "stdout",
     "output_type": "stream",
     "text": [
      "[0.12720568870160653, 0.11983144587832495, 0.11746115354227016, 0.11825125098762179, 0.11535422702133258]\n",
      "[0.19999999999999996, 0.17000000000000004, 0.16500000000000004, 0.17000000000000004, 0.18000000000000005]\n"
     ]
    },
    {
     "data": {
      "image/png": "[encoded data removed]",
      "text/plain": [
       "<Figure size 432x288 with 1 Axes>"
      ]
     },
     "metadata": {
      "needs_background": "light"
     },
     "output_type": "display_data"
    }
   ],
   "source": [
    "classifier = MLPClassifier(solver = 'lbfgs', alpha=1e-6, hidden_layer_sizes=(5,3), random_state=1)\n",
    "train_error, test_error = [], []\n",
    "train_size  =[500, 1000, 1500, 2000, 2500]\n",
    "starttime = time.time()\n",
    "for size in train_size:\n",
    "    classifier.fit(trainX[:size], trainY[:size])\n",
    "    train_error.append(1-classifier.score(trainX, trainY))\n",
    "    test_error.append(1-classifier.score(testX, testY))\n",
    "print(train_error)\n",
    "print(test_error)\n",
    "plt.figure()\n",
    "fig = plt.gcf()\n",
    "ax = plt.gca()\n",
    "plt.title('learning error v.s. training size')\n",
    "plt.xlabel('training size')\n",
    "plt.ylabel('Error')\n",
    "ax.set_ylim([-0.1, 1.0])\n",
    "plt.plot(train_size, train_error, 'go--', label = 'train error', linewidth=2, markersize=12)\n",
    "\n",
    "plt.plot(train_size, test_error, 'ro--', label= 'test error', linewidth=2, markersize=12)\n",
    "plt.legend()\n",
    "fig.savefig('NN_reviews')"
   ]
  },
  {
   "cell_type": "code",
   "execution_count": 20,
   "metadata": {},
   "outputs": [],
   "source": [
    "km = KMeans(n_clusters=2, init = 'k-means++', n_init=5).fit(newdata)\n",
    "cluster_info = km.labels_.astype(np.int)"
   ]
  },
  {
   "cell_type": "code",
   "execution_count": 40,
   "metadata": {},
   "outputs": [
    {
     "name": "stdout",
     "output_type": "stream",
     "text": [
      "(3997, 6)\n",
      "[[-0.303686    0.52927545  0.32468073  0.94236358  0.31669576  1.        ]\n",
      " [-0.3156066   0.28648905 -0.5057343   0.94236358 -0.44310793  1.        ]\n",
      " [-0.27290441  0.14818663  0.32468073  0.94236358  1.07649945  1.        ]\n",
      " [-0.44011301  0.17255913 -0.52946045 -1.06116155  0.31669576  0.        ]\n",
      " [ 1.49039395 -0.33641645  0.82292976  0.94236358 -1.96271531  1.        ]\n",
      " [-0.23386635 -0.25241524  0.18232387 -1.06116155 -1.96271531  0.        ]\n",
      " [-0.34693215  0.66275395 -0.45828201  0.94236358  1.07649945  1.        ]\n",
      " [-0.37400092  0.07075579 -0.52946045  0.94236358  1.07649945  1.        ]\n",
      " [-0.2849356  -0.45996319  0.22977616 -1.06116155  1.07649945  0.        ]\n",
      " [ 1.00570853  0.16879067  0.41958531  0.94236358  0.31669576  1.        ]\n",
      " [-0.37544701 -0.57471681 -0.03121142  0.94236358 -0.44310793  1.        ]\n",
      " [ 1.73941161 -1.08547436 -0.14984214  0.94236358  0.31669576  1.        ]\n",
      " [-0.46567472 -0.82156535 -0.26847286 -1.06116155  0.31669576  0.        ]\n",
      " [-0.28148712  1.10605861 -0.07866371  0.94236358 -1.20291162  1.        ]\n",
      " [-0.28952813  0.18382968 -0.43455587  0.94236358  0.31669576  1.        ]\n",
      " [-0.19106984 -0.92263879  0.87038204  0.94236358  1.07649945  1.        ]\n",
      " [-0.46468997 -0.49240667  0.2535023  -1.06116155  1.07649945  0.        ]\n",
      " [-0.35024195  0.55875842 -0.5057343   0.94236358  0.31669576  1.        ]\n",
      " [-0.43170173 -0.17294478 -0.38710358  0.94236358  1.07649945  1.        ]\n",
      " [-0.36907018  0.42746289 -0.45828201  0.94236358 -0.44310793  1.        ]\n",
      " [ 3.90385431 -0.05609448  2.17531996 -1.06116155 -1.96271531  0.        ]\n",
      " [-0.44056978 -1.46848004 -0.26847286  0.94236358  1.07649945  1.        ]\n",
      " [-0.26766641  0.37237003 -0.07866371  0.94236358  0.31669576  1.        ]\n",
      " [-0.34343676 -1.75956104  1.32117878  0.94236358  1.07649945  1.        ]\n",
      " [-0.29619354 -0.22274967 -0.07866371  0.94236358  1.07649945  1.        ]\n",
      " [ 6.16727512 -0.01267404 -0.26847286  0.94236358 -0.44310793  1.        ]\n",
      " [ 0.76966662 -0.56678608  0.44331145  0.94236358  0.31669576  1.        ]\n",
      " [-0.31401881 -1.30584583 -0.3396513  -1.06116155 -0.44310793  0.        ]\n",
      " [-0.50242862  1.24413898 -0.5057343   0.94236358  1.07649945  1.        ]\n",
      " [-0.33558724 -0.20131574 -0.5057343   0.94236358  1.07649945  1.        ]\n",
      " [-0.25614919  0.46929156  0.30095459  0.94236358 -1.96271531  1.        ]\n",
      " [ 2.46665883 -0.37087872  3.00573499 -1.06116155  0.31669576  0.        ]\n",
      " [-0.22427358  0.99306013 -0.3396513   0.94236358  0.31669576  1.        ]\n",
      " [-0.34706814  0.10549377 -0.55318659 -1.06116155  0.31669576  0.        ]\n",
      " [-0.2791839  -0.06803055 -0.45828201  0.94236358 -1.20291162  1.        ]\n",
      " [-0.23260931 -0.42783626  0.37213302  0.94236358  1.07649945  1.        ]\n",
      " [-0.47656657  0.63917894 -0.03121142 -1.06116155 -0.44310793  0.        ]\n",
      " [-0.31485034 -0.16498471 -0.52946045 -1.06116155 -1.96271531  0.        ]\n",
      " [-0.27717187  2.05734352 -0.38710358  0.94236358 -1.96271531  1.        ]\n",
      " [ 1.03299358  0.74059454  1.67707093 -1.06116155 -1.96271531  0.        ]\n",
      " [ 0.84090468  0.44944628  1.06019119  0.94236358  1.07649945  1.        ]\n",
      " [ 0.99852664 -0.33335526  0.6331206   0.94236358  1.07649945  1.        ]\n",
      " [-0.24697562  0.85995918 -0.31592515 -1.06116155 -0.44310793  0.        ]\n",
      " [-0.37527977 -0.71604352 -0.48200816  0.94236358  1.07649945  1.        ]\n",
      " [-0.35778641  2.43612776 -0.48200816 -1.06116155  0.31669576  0.        ]\n",
      " [ 0.89742138 -0.19075587  0.94156047 -1.06116155 -1.96271531  0.        ]\n",
      " [-0.33640058 -0.07067103  0.27722845  0.94236358 -1.96271531  1.        ]\n",
      " [ 3.93764957  0.14324983  1.08391734  0.94236358  1.07649945  1.        ]\n",
      " [-0.34129242  0.66778218  0.65684675 -1.06116155  0.31669576  0.        ]\n",
      " [-0.39295188  0.06268934 -0.5057343   0.94236358  1.07649945  1.        ]]\n"
     ]
    }
   ],
   "source": [
    "clusterdata = []\n",
    "for i in xrange(newdata.shape[0]):\n",
    "    clusterdata.append(np.append(newdata[i],cluster_info[i]))\n",
    "clusterdata = np.array(clusterdata)\n",
    "#clusterdata = preprocessing.scale(clusterdata)\n",
    "print(clusterdata.shape)\n",
    "print(clusterdata[:50])"
   ]
  },
  {
   "cell_type": "code",
   "execution_count": 41,
   "metadata": {},
   "outputs": [
    {
     "name": "stdout",
     "output_type": "stream",
     "text": [
      "3997\n"
     ]
    }
   ],
   "source": [
    "trainX, trainY, testX, testY = [], [], [], []\n",
    "splitData(newdata, Y, trainX, trainY, testX, testY)"
   ]
  },
  {
   "cell_type": "code",
   "execution_count": 43,
   "metadata": {},
   "outputs": [
    {
     "name": "stdout",
     "output_type": "stream",
     "text": [
      "[0.12720568870160653, 0.11983144587832495, 0.11746115354227016, 0.11825125098762179, 0.11535422702133258]\n",
      "[0.19999999999999996, 0.17000000000000004, 0.16500000000000004, 0.17000000000000004, 0.18000000000000005]\n",
      "0.810087919235\n"
     ]
    },
    {
     "data": {
      "image/png": "[encoded data removed]",
      "text/plain": [
       "<Figure size 432x288 with 1 Axes>"
      ]
     },
     "metadata": {
      "needs_background": "light"
     },
     "output_type": "display_data"
    }
   ],
   "source": [
    "starttime = time.time()\n",
    "classifier = MLPClassifier(solver = 'lbfgs', alpha=1e-6, hidden_layer_sizes=(5,3), random_state=1)\n",
    "train_error, test_error = [], []\n",
    "train_size  =[500, 1000, 1500, 2000, 2500]\n",
    "starttime = time.time()\n",
    "for size in train_size:\n",
    "    classifier.fit(trainX[:size], trainY[:size])\n",
    "    train_error.append(1-classifier.score(trainX, trainY))\n",
    "    test_error.append(1-classifier.score(testX, testY))\n",
    "print(train_error)\n",
    "print(test_error)\n",
    "plt.figure()\n",
    "fig = plt.gcf() \n",
    "ax = plt.gca()\n",
    "plt.title('learning error v.s. training size')\n",
    "plt.xlabel('training size')\n",
    "plt.ylabel('Error')\n",
    "ax.set_ylim([-0.1, 1.0])\n",
    "plt.plot(train_size, train_error, 'go--', label = 'train error', linewidth=2, markersize=12)\n",
    "\n",
    "plt.plot(train_size, test_error, 'ro--', label= 'test error', linewidth=2, markersize=12)\n",
    "plt.legend()\n",
    "fig.savefig('NN_cluster_reviews')\n",
    "print(time.time() - starttime)"
   ]
  },
  {
   "cell_type": "code",
   "execution_count": 11,
   "metadata": {},
   "outputs": [
    {
     "data": {
      "text/plain": [
       "KMeans(algorithm='auto', copy_x=True, init='k-means++', max_iter=300,\n",
       "    n_clusters=2, n_init=10, n_jobs=None, precompute_distances='auto',\n",
       "    random_state=None, tol=0.0001, verbose=0)"
      ]
     },
     "execution_count": 11,
     "metadata": {},
     "output_type": "execute_result"
    }
   ],
   "source": [
    "kmeans = KMeans(init='k-means++', n_clusters=2, n_init=10)\n",
    "kmeans.fit(reduced_data)"
   ]
  },
  {
   "cell_type": "code",
   "execution_count": 12,
   "metadata": {},
   "outputs": [
    {
     "data": {
      "image/png": "[encoded data removed]",
      "text/plain": [
       "<Figure size 432x288 with 1 Axes>"
      ]
     },
     "metadata": {},
     "output_type": "display_data"
    }
   ],
   "source": [
    "# Step size of the mesh. Decrease to increase the quality of the VQ.\n",
    "h = .02     # point in the mesh [x_min, x_max]x[y_min, y_max].\n",
    "\n",
    "# Plot the decision boundary. For that, we will assign a color to each\n",
    "x_min, x_max = reduced_data[:, 0].min() - 1, reduced_data[:, 0].max() + 1\n",
    "y_min, y_max = reduced_data[:, 1].min() - 1, reduced_data[:, 1].max() + 1\n",
    "xx, yy = np.meshgrid(np.arange(x_min, x_max, h), np.arange(y_min, y_max, h))\n",
    "\n",
    "# Obtain labels for each point in mesh. Use last trained model.\n",
    "Z = kmeans.predict(np.c_[xx.ravel(), yy.ravel()])\n",
    "\n",
    "# Put the result into a color plot\n",
    "Z = Z.reshape(xx.shape)\n",
    "plt.figure(1)\n",
    "plt.clf()\n",
    "plt.imshow(Z, interpolation='nearest',\n",
    "           extent=(xx.min(), xx.max(), yy.min(), yy.max()),\n",
    "           cmap=plt.cm.Paired,\n",
    "           aspect='auto', origin='lower')\n",
    "\n",
    "plt.plot(reduced_data[:, 0], reduced_data[:, 1], 'k.', markersize=2)\n",
    "# Plot the centroids as a white X\n",
    "centroids = kmeans.cluster_centers_\n",
    "plt.scatter(centroids[:, 0], centroids[:, 1],\n",
    "            marker='x', s=169, linewidths=3,\n",
    "            color='w', zorder=10)\n",
    "plt.title('K-means clustering on the review (PCA-reduced data)\\n'\n",
    "          'Centroids are marked with white cross')\n",
    "plt.xlim(x_min, x_max)\n",
    "plt.ylim(y_min, y_max)\n",
    "plt.xticks(())\n",
    "plt.yticks(())\n",
    "plt.show()\n",
    "fig = plt.gcf()\n",
    "fig.savefig('PCA2_all_field')"
   ]
  },
  {
   "cell_type": "code",
   "execution_count": 163,
   "metadata": {},
   "outputs": [
    {
     "ename": "ValueError",
     "evalue": "Found input variables with inconsistent numbers of samples: [3997, 1500]",
     "output_type": "error",
     "traceback": [
      "\u001b[0;31m---------------------------------------------------------------------------\u001b[0m",
      "\u001b[0;31mValueError\u001b[0m                                Traceback (most recent call last)",
      "\u001b[0;32m<ipython-input-163-fb1aa002cca6>\u001b[0m in \u001b[0;36m<module>\u001b[0;34m()\u001b[0m\n\u001b[1;32m      1\u001b[0m \u001b[0mpredict\u001b[0m \u001b[0;34m=\u001b[0m \u001b[0mkmeans\u001b[0m\u001b[0;34m.\u001b[0m\u001b[0mlabels_\u001b[0m\u001b[0;34m.\u001b[0m\u001b[0mastype\u001b[0m\u001b[0;34m(\u001b[0m\u001b[0mnp\u001b[0m\u001b[0;34m.\u001b[0m\u001b[0mint\u001b[0m\u001b[0;34m)\u001b[0m\u001b[0;34m\u001b[0m\u001b[0m\n\u001b[0;32m----> 2\u001b[0;31m \u001b[0mprecision\u001b[0m\u001b[0;34m,\u001b[0m \u001b[0mrecall\u001b[0m\u001b[0;34m,\u001b[0m \u001b[0m_\u001b[0m\u001b[0;34m,\u001b[0m \u001b[0m_\u001b[0m \u001b[0;34m=\u001b[0m \u001b[0mprecision_recall_fscore_support\u001b[0m\u001b[0;34m(\u001b[0m\u001b[0mY\u001b[0m\u001b[0;34m,\u001b[0m \u001b[0mpredict\u001b[0m\u001b[0;34m,\u001b[0m \u001b[0maverage\u001b[0m \u001b[0;34m=\u001b[0m \u001b[0;34m'micro'\u001b[0m\u001b[0;34m)\u001b[0m\u001b[0;34m\u001b[0m\u001b[0m\n\u001b[0m\u001b[1;32m      3\u001b[0m \u001b[0;32mprint\u001b[0m\u001b[0;34m(\u001b[0m\u001b[0mprecision\u001b[0m\u001b[0;34m,\u001b[0m \u001b[0mrecall\u001b[0m\u001b[0;34m)\u001b[0m\u001b[0;34m\u001b[0m\u001b[0m\n",
      "\u001b[0;32m/home/junyi/venv/env/local/lib/python2.7/site-packages/sklearn/metrics/classification.pyc\u001b[0m in \u001b[0;36mprecision_recall_fscore_support\u001b[0;34m(y_true, y_pred, beta, labels, pos_label, average, warn_for, sample_weight)\u001b[0m\n\u001b[1;32m   1029\u001b[0m         \u001b[0;32mraise\u001b[0m \u001b[0mValueError\u001b[0m\u001b[0;34m(\u001b[0m\u001b[0;34m\"beta should be >0 in the F-beta score\"\u001b[0m\u001b[0;34m)\u001b[0m\u001b[0;34m\u001b[0m\u001b[0m\n\u001b[1;32m   1030\u001b[0m \u001b[0;34m\u001b[0m\u001b[0m\n\u001b[0;32m-> 1031\u001b[0;31m     \u001b[0my_type\u001b[0m\u001b[0;34m,\u001b[0m \u001b[0my_true\u001b[0m\u001b[0;34m,\u001b[0m \u001b[0my_pred\u001b[0m \u001b[0;34m=\u001b[0m \u001b[0m_check_targets\u001b[0m\u001b[0;34m(\u001b[0m\u001b[0my_true\u001b[0m\u001b[0;34m,\u001b[0m \u001b[0my_pred\u001b[0m\u001b[0;34m)\u001b[0m\u001b[0;34m\u001b[0m\u001b[0m\n\u001b[0m\u001b[1;32m   1032\u001b[0m     \u001b[0mcheck_consistent_length\u001b[0m\u001b[0;34m(\u001b[0m\u001b[0my_true\u001b[0m\u001b[0;34m,\u001b[0m \u001b[0my_pred\u001b[0m\u001b[0;34m,\u001b[0m \u001b[0msample_weight\u001b[0m\u001b[0;34m)\u001b[0m\u001b[0;34m\u001b[0m\u001b[0m\n\u001b[1;32m   1033\u001b[0m     \u001b[0mpresent_labels\u001b[0m \u001b[0;34m=\u001b[0m \u001b[0munique_labels\u001b[0m\u001b[0;34m(\u001b[0m\u001b[0my_true\u001b[0m\u001b[0;34m,\u001b[0m \u001b[0my_pred\u001b[0m\u001b[0;34m)\u001b[0m\u001b[0;34m\u001b[0m\u001b[0m\n",
      "\u001b[0;32m/home/junyi/venv/env/local/lib/python2.7/site-packages/sklearn/metrics/classification.pyc\u001b[0m in \u001b[0;36m_check_targets\u001b[0;34m(y_true, y_pred)\u001b[0m\n\u001b[1;32m     69\u001b[0m     \u001b[0my_pred\u001b[0m \u001b[0;34m:\u001b[0m \u001b[0marray\u001b[0m \u001b[0;32mor\u001b[0m \u001b[0mindicator\u001b[0m \u001b[0mmatrix\u001b[0m\u001b[0;34m\u001b[0m\u001b[0m\n\u001b[1;32m     70\u001b[0m     \"\"\"\n\u001b[0;32m---> 71\u001b[0;31m     \u001b[0mcheck_consistent_length\u001b[0m\u001b[0;34m(\u001b[0m\u001b[0my_true\u001b[0m\u001b[0;34m,\u001b[0m \u001b[0my_pred\u001b[0m\u001b[0;34m)\u001b[0m\u001b[0;34m\u001b[0m\u001b[0m\n\u001b[0m\u001b[1;32m     72\u001b[0m     \u001b[0mtype_true\u001b[0m \u001b[0;34m=\u001b[0m \u001b[0mtype_of_target\u001b[0m\u001b[0;34m(\u001b[0m\u001b[0my_true\u001b[0m\u001b[0;34m)\u001b[0m\u001b[0;34m\u001b[0m\u001b[0m\n\u001b[1;32m     73\u001b[0m     \u001b[0mtype_pred\u001b[0m \u001b[0;34m=\u001b[0m \u001b[0mtype_of_target\u001b[0m\u001b[0;34m(\u001b[0m\u001b[0my_pred\u001b[0m\u001b[0;34m)\u001b[0m\u001b[0;34m\u001b[0m\u001b[0m\n",
      "\u001b[0;32m/home/junyi/venv/env/local/lib/python2.7/site-packages/sklearn/utils/validation.pyc\u001b[0m in \u001b[0;36mcheck_consistent_length\u001b[0;34m(*arrays)\u001b[0m\n\u001b[1;32m    228\u001b[0m     \u001b[0;32mif\u001b[0m \u001b[0mlen\u001b[0m\u001b[0;34m(\u001b[0m\u001b[0muniques\u001b[0m\u001b[0;34m)\u001b[0m \u001b[0;34m>\u001b[0m \u001b[0;36m1\u001b[0m\u001b[0;34m:\u001b[0m\u001b[0;34m\u001b[0m\u001b[0m\n\u001b[1;32m    229\u001b[0m         raise ValueError(\"Found input variables with inconsistent numbers of\"\n\u001b[0;32m--> 230\u001b[0;31m                          \" samples: %r\" % [int(l) for l in lengths])\n\u001b[0m\u001b[1;32m    231\u001b[0m \u001b[0;34m\u001b[0m\u001b[0m\n\u001b[1;32m    232\u001b[0m \u001b[0;34m\u001b[0m\u001b[0m\n",
      "\u001b[0;31mValueError\u001b[0m: Found input variables with inconsistent numbers of samples: [3997, 1500]"
     ]
    }
   ],
   "source": [
    "predict = kmeans.labels_.astype(np.int)\n",
    "precision, recall, _, _ = precision_recall_fscore_support(Y, predict, average = 'micro')\n",
    "print(precision, recall)"
   ]
  },
  {
   "cell_type": "code",
   "execution_count": 21,
   "metadata": {},
   "outputs": [
    {
     "name": "stdout",
     "output_type": "stream",
     "text": [
      "Evaluate of KMeans with k-means++ init\n",
      "running time is 0.493996858597 s\n"
     ]
    },
    {
     "data": {
      "image/png": "[encoded data removed]",
      "text/plain": [
       "<Figure size 432x288 with 3 Axes>"
      ]
     },
     "metadata": {
      "needs_background": "light"
     },
     "output_type": "display_data"
    }
   ],
   "source": [
    "\n",
    "sample_size = [300, 900, 1500, 2000]\n",
    "max_iters = xrange(1, 200, 20)\n",
    "clf_error = {}\n",
    "plt.figure()\n",
    "ax1 = plt.subplot(212)\n",
    "ax2 = plt.subplot(221)\n",
    "ax3 = plt.subplot(222)\n",
    "legends = []\n",
    "starttime = time.time()\n",
    "for factory, init, params in clusters:\n",
    "    print('Evaluate of {} with {} init'.format(factory.__name__, init))\n",
    "    for size in sample_size:\n",
    "        precisions = np.empty(len(max_iters))\n",
    "        recalls = np.empty(len(max_iters))\n",
    "        inertia = np.empty(len(max_iters))\n",
    "        for i, max_iter in enumerate(max_iters):\n",
    "            #change fit(newdata[:size]) to use PCA\n",
    "            #change to fit(X[:size]) to use kmeans without reduction\n",
    "            km = factory(n_clusters=2, max_iter=max_iter, n_init=5, **params).fit(reduced_data[:size])\n",
    "            predict = km.labels_.astype(np.int)\n",
    "            precision, recall, _, _ = precision_recall_fscore_support(Y[:size], predict, average = 'micro')\n",
    "            #print(precision, recall)\n",
    "            inertia[i] = km.inertia_\n",
    "            precisions[i] = max(precision, 1 - precision)\n",
    "            recalls[i] = max(recall, 1 - recall)\n",
    "        ax1.plot(max_iters, inertia)\n",
    "        ax2.plot(max_iters, precisions)\n",
    "        ax3.plot(max_iters, recalls)\n",
    "        legends.append(\"{} with size = {}\".format(factory.__name__, size))\n",
    "    fig = plt.gcf()\n",
    "    ax1.set_xlabel('iteration')\n",
    "    ax1.set_ylabel('inertia')\n",
    "    ax1.legend(legends)\n",
    "\n",
    "    ax2.set_ylabel('precision')\n",
    "    ax3.set_ylabel('recall')\n",
    "    fig.savefig('PCA_text_only')\n",
    "print('running time is {} s'.format(time.time()-starttime))"
   ]
  },
  {
   "cell_type": "code",
   "execution_count": null,
   "metadata": {},
   "outputs": [],
   "source": []
  }
 ],
 "metadata": {
  "kernelspec": {
   "display_name": "Python 2",
   "language": "python",
   "name": "python2"
  },
  "language_info": {
   "codemirror_mode": {
    "name": "ipython",
    "version": 2
   },
   "file_extension": ".py",
   "mimetype": "text/x-python",
   "name": "python",
   "nbconvert_exporter": "python",
   "pygments_lexer": "ipython2",
   "version": "2.7.12"
  }
 },
 "nbformat": 4,
 "nbformat_minor": 2
}
