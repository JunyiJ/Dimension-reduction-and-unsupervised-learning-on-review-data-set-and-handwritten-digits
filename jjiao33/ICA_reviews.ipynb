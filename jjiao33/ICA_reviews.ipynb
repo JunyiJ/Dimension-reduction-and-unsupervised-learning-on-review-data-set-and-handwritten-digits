{
 "cells": [
  {
   "cell_type": "code",
   "execution_count": 1,
   "metadata": {},
   "outputs": [
    {
     "name": "stdout",
     "output_type": "stream",
     "text": [
      "[nltk_data] Downloading package punkt to /home/junyi/nltk_data...\n",
      "[nltk_data]   Package punkt is already up-to-date!\n",
      "[nltk_data] Downloading package stopwords to /home/junyi/nltk_data...\n",
      "[nltk_data]   Package stopwords is already up-to-date!\n",
      "[nltk_data] Downloading package wordnet to /home/junyi/nltk_data...\n",
      "[nltk_data]   Package wordnet is already up-to-date!\n"
     ]
    }
   ],
   "source": [
    "from __future__ import print_function\n",
    "\n",
    "import csv\n",
    "import codecs\n",
    "import sys\n",
    "import string\n",
    "import time\n",
    "import numpy as np\n",
    "import matplotlib.pyplot as plt\n",
    "\n",
    "from collections import defaultdict\n",
    "from random import shuffle \n",
    "import nltk\n",
    "from nltk.tokenize import RegexpTokenizer\n",
    "from nltk.classify import SklearnClassifier\n",
    "from nltk.util import ngrams\n",
    "nltk.download('punkt')\n",
    "nltk.download('stopwords')\n",
    "nltk.download('wordnet')\n",
    "from nltk.corpus import stopwords\n",
    "from nltk.stem import WordNetLemmatizer\n",
    "\n",
    "from sklearn import metrics\n",
    "from sklearn.metrics import accuracy_score, precision_recall_fscore_support\n",
    "from sklearn.pipeline import Pipeline\n",
    "from sklearn.tree import DecisionTreeClassifier\n",
    "from sklearn.neural_network import MLPClassifier\n",
    "from sklearn import ensemble\n",
    "from sklearn.svm import SVC\n",
    "from sklearn.neighbors import KNeighborsClassifier\n",
    "from sklearn.cluster import KMeans\n",
    "from sklearn.feature_extraction.text import CountVectorizer, TfidfVectorizer\n",
    "from sklearn.metrics import precision_recall_fscore_support\n",
    "from sklearn.decomposition import PCA, FastICA, fastica\n",
    "from sklearn import preprocessing\n",
    "\n",
    "def parseReview(line):\n",
    "    if line[1] == \"__label1__\":\n",
    "        s = 0\n",
    "    else:\n",
    "        s = 1\n",
    "    return (line[0], line[2], line[3], line[4], line[8], s)\n",
    "\n",
    "def preProcess(text):\n",
    "    m = {key: \"\" for key in string.punctuation}\n",
    "    #table = string.maketrans(m)\n",
    "    lemmatizer = WordNetLemmatizer()\n",
    "    filtered_tokens=[]\n",
    "    lemmatized_tokens = []\n",
    "    stop_words = set(stopwords.words('english'))\n",
    "    text = text.translate(m)\n",
    "    for w in text.split(\" \"):\n",
    "        if w not in stop_words:\n",
    "            lemmatized_tokens.append(lemmatizer.lemmatize(w.lower()))\n",
    "        filtered_tokens = [' '.join(l) for l in nltk.bigrams(lemmatized_tokens)] + lemmatized_tokens\n",
    "    return filtered_tokens\n",
    "\n",
    "def loadData(path):\n",
    "    rawData = []\n",
    "    with open(path) as f:\n",
    "        reader = csv.reader(f, delimiter='\\t')\n",
    "        next(reader)\n",
    "        categories = {}\n",
    "        ind = 0\n",
    "        for line in reader:\n",
    "            (Id, rating, verified_purchase, product_category, text, Label) = parseReview(line)\n",
    "            if product_category not in categories:\n",
    "                category = ind\n",
    "                categories[product_category] = ind\n",
    "                ind += 1\n",
    "            vp = 1 if verified_purchase == 'Y' else 0\n",
    "            filtered_tokens = preProcess(unicode(text, 'utf-8'))\n",
    "            # Only use text field\n",
    "            #rawData.append([' '.join(filtered_tokens), Label])\n",
    "            # Use all fields\n",
    "            rawData.append([' '.join(filtered_tokens), len(filtered_tokens), vp, int(rating), Label])\n",
    "    shuffle(rawData)\n",
    "    Y = [x[-1] for x in rawData]\n",
    "    support = [[x[1], x[2], x[3]] for x in rawData]\n",
    "    X = [x[0] for x in rawData]\n",
    "    return X, Y, support\n",
    "\n",
    "\n",
    "def processData(rawData):\n",
    "    X = []\n",
    "    vectorizer = TfidfVectorizer(stop_words='english')\n",
    "    X = vectorizer.fit_transform(rawData)\n",
    "    V = vectorizer.vocabulary_\n",
    "    X = X.toarray()\n",
    "    D = {v:k for k, v in V.iteritems()}\n",
    "    return X, D\n",
    "        \n",
    "def crossValidate(trainData, folds, classifier):\n",
    "    cv_results = []\n",
    "    foldsize = int (len(trainData)//folds)\n",
    "    for i in xrange(0, len(trainData), foldsize):\n",
    "        pipeline = Pipeline([('', classifier)])\n",
    "        clf = SklearnClassifier(pipeline).train(trainData[:i] + trainData[foldsize + i:])\n",
    "        y_pred = clf.classify_many(map(lambda t : t[0], trainData[i:foldsize + i]))\n",
    "        a, p, r, f = predict(trainData[i:foldsize + i], y_pred)\n",
    "        cv_results.append((a, p, r, f))\n",
    "    cv_results = (np.mean(np.array(cv_results), axis=0))\n",
    "    return cv_results, clf\n",
    "\n",
    "def plot_boosting_deviance(clf, params, X_test, y_test):\n",
    "    test_score = np.zeros((params['n_estimators'],), dtype=np.float64)\n",
    "    for i, y_pred in enumerate(clf.staged_predict(X_test)):\n",
    "\ttest_score[i] = clf.loss_(y_test, y_pred)\n",
    "\tplt.figure()\n",
    "\tplt.title('Deviance')\n",
    "\tplt.plot(np.arange(params['n_estimators']) + 1, clf.train_score_, 'b-',\n",
    "\t\t label='Training Set Deviance')\n",
    "\tplt.plot(np.arange(params['n_estimators']) + 1, test_score, 'r-',\n",
    "\t\t label='Test Set Deviance')\n",
    "\tplt.legend(loc='upper right')\n",
    "\tplt.xlabel('Boosting Iterations')\n",
    "\tplt.ylabel('Deviance')\n",
    "        fig = plt.gcf()\n",
    "        fig.savefig('boosting deviance')"
   ]
  },
  {
   "cell_type": "code",
   "execution_count": 2,
   "metadata": {},
   "outputs": [
    {
     "name": "stdout",
     "output_type": "stream",
     "text": [
      "(3997, 12688)\n",
      "(1000,)\n"
     ]
    }
   ],
   "source": [
    "rawData, Y, support = loadData('reviews_4000.txt')\n",
    "X, V = processData(rawData)[:1000]\n",
    "Y = np.array(Y)[:1000]\n",
    "print(X.shape)\n",
    "print(Y.shape)"
   ]
  },
  {
   "cell_type": "code",
   "execution_count": 3,
   "metadata": {},
   "outputs": [
    {
     "name": "stdout",
     "output_type": "stream",
     "text": [
      "ICA time is  146.181977034\n"
     ]
    }
   ],
   "source": [
    "starttime = time.time()\n",
    "ica = FastICA(algorithm='parallel', n_components=2)\n",
    "reduced_data = ica.fit_transform(X)\n",
    "reduced_data = preprocessing.scale(reduced_data)\n",
    "print(\"ICA time is \", time.time() - starttime)"
   ]
  },
  {
   "cell_type": "code",
   "execution_count": 15,
   "metadata": {},
   "outputs": [
    {
     "name": "stdout",
     "output_type": "stream",
     "text": [
      "[ 4.48082227e-06 -4.78888680e-05  3.69239098e-05 ...  7.32278251e-05\n",
      "  4.61160279e-05  4.61160279e-05]\n",
      "case 0.0022265703456583437\n",
      "color 0.0024235701357095637\n",
      "daughter 0.002429548428269286\n",
      "durable 0.00206258115724323\n",
      "exactly 0.00211320206661908\n",
      "fit 0.003252865302061866\n",
      "great 0.005563520876175646\n",
      "look 0.0037666065291434587\n",
      "love 0.004051815665430757\n",
      "nice 0.0031715617587720064\n",
      "perfect 0.003241356926652644\n",
      "price 0.003026279946183861\n",
      "product 0.002071529749146743\n",
      "small 0.0023642039703670194\n",
      "wear 0.002306632433663419\n"
     ]
    }
   ],
   "source": [
    "a0 = ica.components_[1]\n",
    "print(a0)\n",
    "for i in xrange(a0.shape[0]):\n",
    "    if a0[i] >= 0.002:\n",
    "        print(V[i], a0[i])\n"
   ]
  },
  {
   "cell_type": "code",
   "execution_count": 62,
   "metadata": {},
   "outputs": [
    {
     "name": "stdout",
     "output_type": "stream",
     "text": [
      "(1000, 500)\n"
     ]
    }
   ],
   "source": [
    "print(reduced_data.shape)"
   ]
  },
  {
   "cell_type": "code",
   "execution_count": 11,
   "metadata": {},
   "outputs": [
    {
     "name": "stdout",
     "output_type": "stream",
     "text": [
      "(1000, 503)\n",
      "[[-0.0175256   0.87487296  0.54757961 ... -0.59380361 -1.08347268\n",
      "   0.27830755]\n",
      " [-0.01843614 -0.44834267  0.11869366 ... -0.15489193 -1.08347268\n",
      "  -1.25506736]\n",
      " [ 0.30636576  0.45446704  0.49992005 ... -0.24267427  0.92295821\n",
      "   1.044995  ]\n",
      " ...\n",
      " [ 0.57695815  0.09266198  0.54820653 ...  0.28401975 -1.08347268\n",
      "  -0.48837991]\n",
      " [ 0.30104146 -0.36592853  1.63422927 ... -0.26461985 -1.08347268\n",
      "   0.27830755]\n",
      " [-0.66080791  0.30106807  0.74001289 ... -0.57185803 -1.08347268\n",
      "   0.27830755]]\n"
     ]
    }
   ],
   "source": [
    "newdata = []\n",
    "for i in xrange(reduced_data.shape[0]):\n",
    "    newdata.append(np.append(reduced_data[i], support[i]))\n",
    "newdata = np.array(newdata)\n",
    "newdata = preprocessing.scale(newdata)\n",
    "print(newdata.shape)\n",
    "print(newdata[:10])"
   ]
  },
  {
   "cell_type": "code",
   "execution_count": 9,
   "metadata": {},
   "outputs": [
    {
     "data": {
      "text/plain": [
       "KMeans(algorithm='auto', copy_x=True, init='k-means++', max_iter=300,\n",
       "    n_clusters=500, n_init=10, n_jobs=None, precompute_distances='auto',\n",
       "    random_state=None, tol=0.0001, verbose=0)"
      ]
     },
     "execution_count": 9,
     "metadata": {},
     "output_type": "execute_result"
    }
   ],
   "source": [
    "kmeans = KMeans(init='k-means++', n_clusters=2, n_init=10)\n",
    "kmeans.fit(newdata)"
   ]
  },
  {
   "cell_type": "code",
   "execution_count": 79,
   "metadata": {},
   "outputs": [
    {
     "name": "stdout",
     "output_type": "stream",
     "text": [
      "0.162 0.162\n"
     ]
    }
   ],
   "source": [
    "predict = kmeans.labels_.astype(np.int)\n",
    "precision, recall, _, _ = precision_recall_fscore_support(Y, predict, average = 'micro')\n",
    "print(precision, recall)"
   ]
  },
  {
   "cell_type": "code",
   "execution_count": 14,
   "metadata": {},
   "outputs": [
    {
     "name": "stdout",
     "output_type": "stream",
     "text": [
      "Evaluate of KMeans with k-means++ init\n",
      "running time is 0.33225107193 s\n"
     ]
    },
    {
     "data": {
      "image/png": "[encoded data removed]",
      "text/plain": [
       "<Figure size 432x288 with 3 Axes>"
      ]
     },
     "metadata": {
      "needs_background": "light"
     },
     "output_type": "display_data"
    }
   ],
   "source": [
    "clusters = [\n",
    "               (KMeans, 'k-means++', {}),             \n",
    "           ]\n",
    "sample_size = [100, 300, 900]\n",
    "max_iters = xrange(1, 200, 20)\n",
    "clf_error = {}\n",
    "plt.figure()\n",
    "ax1 = plt.subplot(212)\n",
    "ax2 = plt.subplot(221)\n",
    "ax3 = plt.subplot(222)\n",
    "legends = []\n",
    "starttime = time.time()\n",
    "for factory, init, params in clusters:\n",
    "    print('Evaluate of {} with {} init'.format(factory.__name__, init))\n",
    "    for size in sample_size:\n",
    "        precisions = np.empty(len(max_iters))\n",
    "        recalls = np.empty(len(max_iters))\n",
    "        inertia = np.empty(len(max_iters))\n",
    "        for i, max_iter in enumerate(max_iters):\n",
    "            #change fit(newdata[:size]) to use PCA\n",
    "            #change to fit(X[:size]) to use kmeans without reduction\n",
    "            km = factory(n_clusters=2, max_iter=max_iter, n_init=5, **params).fit(reduced_data[:size])\n",
    "            predict = km.labels_.astype(np.int)\n",
    "            precision, recall, _, _ = precision_recall_fscore_support(Y[:size], predict, average = 'micro')\n",
    "            #print(precision, recall)\n",
    "            inertia[i] = km.inertia_\n",
    "            precisions[i] = max(precision, 1 - precision)\n",
    "            recalls[i] = max(recall, 1 - recall)\n",
    "        ax1.plot(max_iters, inertia)\n",
    "        ax2.plot(max_iters, precisions)\n",
    "        ax3.plot(max_iters, recalls)\n",
    "        legends.append(\"{} with size = {}\".format(factory.__name__, size))\n",
    "    fig = plt.gcf()\n",
    "    ax1.set_xlabel('iteration')\n",
    "    ax1.set_ylabel('inertia')\n",
    "    ax1.legend(legends)\n",
    "\n",
    "    ax2.set_ylabel('precision')\n",
    "    ax3.set_ylabel('recall')\n",
    "    fig.savefig('ICA500_text_only')\n",
    "print('running time is {} s'.format(time.time()-starttime))"
   ]
  },
  {
   "cell_type": "code",
   "execution_count": null,
   "metadata": {},
   "outputs": [],
   "source": []
  }
 ],
 "metadata": {
  "kernelspec": {
   "display_name": "Python 2",
   "language": "python",
   "name": "python2"
  },
  "language_info": {
   "codemirror_mode": {
    "name": "ipython",
    "version": 2
   },
   "file_extension": ".py",
   "mimetype": "text/x-python",
   "name": "python",
   "nbconvert_exporter": "python",
   "pygments_lexer": "ipython2",
   "version": "2.7.12"
  }
 },
 "nbformat": 4,
 "nbformat_minor": 2
}
